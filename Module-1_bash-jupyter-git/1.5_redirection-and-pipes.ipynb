{
 "cells": [
  {
   "cell_type": "markdown",
   "metadata": {},
   "source": [
    "# 1.5 Redirection and pipes\n",
    "\n",
    "This notebook will demonstrate how to use redirection and pipes to store the outputs of a command in a file and/or to chain commands in a sequence."
   ]
  },
  {
   "cell_type": "markdown",
   "metadata": {},
   "source": [
    "#### How many txt files are in `data/tmp`?\n",
    "```\n",
    "%%bash\n",
    "ls data/tmp/*.txt | wc -l\n",
    "```"
   ]
  },
  {
   "cell_type": "code",
   "execution_count": 1,
   "metadata": {},
   "outputs": [
    {
     "name": "stdout",
     "output_type": "stream",
     "text": [
      "     191\n"
     ]
    }
   ],
   "source": [
    "%%bash\n",
    "ls data/tmp/*.txt | wc -l"
   ]
  },
  {
   "cell_type": "markdown",
   "metadata": {},
   "source": [
    "#### save list of txt files in `data/tmp` to a file list, and append the list of files in `data/art`.\n",
    "Find and correct the error...\n",
    "```\n",
    "%%bash\n",
    "ls data/tmp/*.txt > file_list.txt\n",
    "ls data/art > file_list.txt\n",
    "```"
   ]
  },
  {
   "cell_type": "code",
   "execution_count": 4,
   "metadata": {},
   "outputs": [],
   "source": [
    "%%bash\n",
    "ls data/tmp/*.txt > file_list.txt\n",
    "ls data/art >> file_list.txt"
   ]
  },
  {
   "cell_type": "markdown",
   "metadata": {},
   "source": [
    "#### Count the number of painters in `artists.txt` after filtering out the French painters\n",
    "```\n",
    "%%bash\n",
    "grep painter data/art/artists.txt | grep -v 'French painter' | wc -l\n",
    "```"
   ]
  },
  {
   "cell_type": "code",
   "execution_count": 3,
   "metadata": {},
   "outputs": [
    {
     "name": "stdout",
     "output_type": "stream",
     "text": [
      "      89\n"
     ]
    }
   ],
   "source": [
    "%%bash\n",
    "grep painter data/art/artists.txt | grep -v 'French painter' | wc -l"
   ]
  },
  {
   "cell_type": "markdown",
   "metadata": {},
   "source": [
    "## Homework"
   ]
  },
  {
   "cell_type": "markdown",
   "metadata": {},
   "source": [
    "### HW1: Count the number of Dutch artists that are not from Amsterdam."
   ]
  },
  {
   "cell_type": "code",
<<<<<<< Updated upstream
   "execution_count": 15,
   "metadata": {},
   "outputs": [
    {
     "name": "stdout",
     "output_type": "stream",
     "text": [
      "       1\n"
=======
   "execution_count": 5,
   "metadata": {},
   "outputs": [
    {
     "ename": "SyntaxError",
     "evalue": "invalid syntax (<ipython-input-5-6edbb0893743>, line 1)",
     "output_type": "error",
     "traceback": [
      "\u001b[0;36m  File \u001b[0;32m\"<ipython-input-5-6edbb0893743>\"\u001b[0;36m, line \u001b[0;32m1\u001b[0m\n\u001b[0;31m    grep \"Dutch artists\" data/art/artists.txt | grep -v 'Amsterdam' | wc -l\u001b[0m\n\u001b[0m                       ^\u001b[0m\n\u001b[0;31mSyntaxError\u001b[0m\u001b[0;31m:\u001b[0m invalid syntax\n"
>>>>>>> Stashed changes
     ]
    }
   ],
   "source": [
<<<<<<< Updated upstream
    "%%bash\n",
    "grep -c \"Dutch\" data/art/artists.txt | grep -v \"Amsterdam\" | wc -l"
=======
    "grep \"Dutch artists\" data/art/artists.txt | grep -v 'Amsterdam' | wc -l"
>>>>>>> Stashed changes
   ]
  },
  {
   "cell_type": "code",
<<<<<<< Updated upstream
   "execution_count": 21,
=======
   "execution_count": 6,
>>>>>>> Stashed changes
   "metadata": {},
   "outputs": [
    {
     "name": "stdout",
     "output_type": "stream",
     "text": [
      "       0\n"
     ]
<<<<<<< Updated upstream
    },
    {
     "name": "stderr",
     "output_type": "stream",
     "text": [
      "grep: artists.txt: No such file or directory\n"
     ]
    }
   ],
   "source": [
    "%%bash\n",
    "grep -c \"Dutch\" artists.txt | grep -v \"Amsterdam\" | wc -l"
   ]
  },
  {
   "cell_type": "code",
   "execution_count": 1,
   "metadata": {},
   "outputs": [
    {
     "name": "stdout",
     "output_type": "stream",
     "text": [
      "       1\n"
     ]
=======
>>>>>>> Stashed changes
    }
   ],
   "source": [
    "%%bash\n",
<<<<<<< Updated upstream
    "cd data/art\n",
    "grep -c \"Dutch artist\" artists.txt | grep -v \"Amsterdam\" | wc -l"
=======
    "grep \"Dutch artists\" data/art/artists.txt | grep -v 'Amsterdam' | wc -l"
>>>>>>> Stashed changes
   ]
  },
  {
   "cell_type": "code",
<<<<<<< Updated upstream
   "execution_count": 2,
=======
   "execution_count": 7,
>>>>>>> Stashed changes
   "metadata": {},
   "outputs": [
    {
     "name": "stdout",
     "output_type": "stream",
     "text": [
      "       1\n"
     ]
    }
   ],
   "source": [
    "%%bash\n",
<<<<<<< Updated upstream
    "cd data/art\n",
    "grep -c \"Dutch\" artists.txt | grep -v \"Amsterdam\" | wc -l"
   ]
  },
  {
   "cell_type": "code",
   "execution_count": null,
   "metadata": {},
   "outputs": [],
   "source": [
    "%%bash\n",
    "cd data/art\n",
    "grep -c \"Dutch\" artists.txt"
=======
    "grep -c \"Dutch artists\" data/art/artists.txt | grep -v \"Amsterdam\" | wc -l"
>>>>>>> Stashed changes
   ]
  },
  {
   "cell_type": "markdown",
   "metadata": {},
   "source": [
    "### HW2: Sort the Italian painters in `artists.txt` by last name."
   ]
  },
  {
   "cell_type": "code",
<<<<<<< Updated upstream
   "execution_count": null,
   "metadata": {},
   "outputs": [],
   "source": []
  },
  {
   "cell_type": "code",
   "execution_count": 16,
=======
   "execution_count": 8,
>>>>>>> Stashed changes
   "metadata": {},
   "outputs": [
    {
     "name": "stderr",
     "output_type": "stream",
     "text": [
      "sort: No such file or directory\n"
     ]
    }
   ],
   "source": [
    "%%bash\n",
<<<<<<< Updated upstream
    "sort -k1 \"Italian painter\" data/art/artists.txt"
=======
    "sort data/art/artists.txt \"Italian painter\""
>>>>>>> Stashed changes
   ]
  },
  {
   "cell_type": "code",
<<<<<<< Updated upstream
   "execution_count": 17,
=======
   "execution_count": 9,
>>>>>>> Stashed changes
   "metadata": {},
   "outputs": [
    {
     "name": "stderr",
     "output_type": "stream",
     "text": [
<<<<<<< Updated upstream
      "sort: -k l: Invalid argument\n"
=======
      "sort: No such file or directory\n"
>>>>>>> Stashed changes
     ]
    }
   ],
   "source": [
    "%%bash\n",
<<<<<<< Updated upstream
    "sort -kl \"Italian painter\" artists.txt"
=======
    "sort \"Italian painter\" data/art/artists.txt"
>>>>>>> Stashed changes
   ]
  },
  {
   "cell_type": "code",
<<<<<<< Updated upstream
   "execution_count": 18,
   "metadata": {},
   "outputs": [
    {
     "name": "stderr",
     "output_type": "stream",
     "text": [
      "sort: No such file or directory\n"
     ]
    }
   ],
   "source": [
    "%%bash\n",
    "sort -k1 \"Italian painter\" artists.txt"
=======
   "execution_count": null,
   "metadata": {},
   "outputs": [],
   "source": [
    "%%bash\n",
    "sort \"Italian painter\""
>>>>>>> Stashed changes
   ]
  },
  {
   "cell_type": "markdown",
   "metadata": {},
   "source": [
    "### HW3: Count how many Italian sculptors are *either* from the Medieval period or the Baroque period."
   ]
  },
  {
   "cell_type": "code",
<<<<<<< Updated upstream
   "execution_count": 19,
   "metadata": {},
   "outputs": [
    {
     "name": "stdout",
     "output_type": "stream",
     "text": [
      "       1\n"
     ]
    }
   ],
   "source": [
    "%%bash\n",
    "grep -c \"Italian sculptor\" data/art/artists.txt | grep -c \"Medieval\" | wc -l"
=======
   "execution_count": 10,
   "metadata": {},
   "outputs": [],
   "source": [
    "%%bash\n",
    "grep -c \"Italian sculptor\" data/art/artists.txt > t1"
>>>>>>> Stashed changes
   ]
  },
  {
   "cell_type": "code",
<<<<<<< Updated upstream
   "execution_count": 20,
   "metadata": {},
   "outputs": [
    {
     "name": "stdout",
     "output_type": "stream",
     "text": [
      "       1\n"
=======
   "execution_count": 11,
   "metadata": {},
   "outputs": [
    {
     "ename": "SyntaxError",
     "evalue": "invalid syntax (<ipython-input-11-4a765c03b9a7>, line 1)",
     "output_type": "error",
     "traceback": [
      "\u001b[0;36m  File \u001b[0;32m\"<ipython-input-11-4a765c03b9a7>\"\u001b[0;36m, line \u001b[0;32m1\u001b[0m\n\u001b[0;31m    grep -c \"Medieval\" wc -l\u001b[0m\n\u001b[0m                     ^\u001b[0m\n\u001b[0;31mSyntaxError\u001b[0m\u001b[0;31m:\u001b[0m invalid syntax\n"
>>>>>>> Stashed changes
     ]
    }
   ],
   "source": [
<<<<<<< Updated upstream
    "%%bash\n",
    "grep -c \"Italian sculptor\" data/art/artists.txt | grep -c \"Baroque\" | wc -l"
=======
    "grep -c \"Medieval\" wc -l"
>>>>>>> Stashed changes
   ]
  },
  {
   "cell_type": "code",
<<<<<<< Updated upstream
   "execution_count": 3,
   "metadata": {},
   "outputs": [
    {
     "name": "stdout",
     "output_type": "stream",
     "text": [
      "       3      23     203 t2\n"
=======
   "execution_count": 12,
   "metadata": {},
   "outputs": [
    {
     "name": "stderr",
     "output_type": "stream",
     "text": [
      "grep: wc: No such file or directory\n"
>>>>>>> Stashed changes
     ]
    }
   ],
   "source": [
    "%%bash\n",
<<<<<<< Updated upstream
    "cd data/art\n",
    "grep 'Italian sculptor' artists.txt > t1 | grep 'Medieval' t1 > t2\n",
    "grep 'Baroque' t1 >> t2\n",
    "wc t2"
=======
    "grep -c \"Medieval\" wc -l"
>>>>>>> Stashed changes
   ]
  },
  {
   "cell_type": "code",
<<<<<<< Updated upstream
   "execution_count": 4,
=======
   "execution_count": 13,
>>>>>>> Stashed changes
   "metadata": {},
   "outputs": [
    {
     "name": "stdout",
     "output_type": "stream",
     "text": [
<<<<<<< Updated upstream
      "TACCA, Ferdinando\t(1619-c. 1688)\tBaroque\tItalian sculptor (Florence)\n",
      "TACCA, Pietro\t(1577-1640)\tBaroque\tItalian sculptor (Florence)\n",
      "TERILLI, Francesco\t(active 1610-1630)\tBaroque\tItalian sculptor (Feltre)\n"
=======
      "       1\n"
>>>>>>> Stashed changes
     ]
    }
   ],
   "source": [
    "%%bash\n",
<<<<<<< Updated upstream
    "cd data/art\n",
    "grep 'Italian sculptor' artists.txt > t1 | grep 'Medieval' t1 > t2\n",
    "grep 'Baroque' t1 >> t2\n",
    "less t2"
=======
    "grep -c \"Medieval\" data/art/artists.txt | wc -l"
>>>>>>> Stashed changes
   ]
  },
  {
   "cell_type": "code",
<<<<<<< Updated upstream
   "execution_count": 9,
=======
   "execution_count": 14,
>>>>>>> Stashed changes
   "metadata": {},
   "outputs": [
    {
     "name": "stdout",
     "output_type": "stream",
     "text": [
<<<<<<< Updated upstream
      "       6 t2\n"
=======
      "       1\n"
>>>>>>> Stashed changes
     ]
    }
   ],
   "source": [
    "%%bash\n",
<<<<<<< Updated upstream
    "cd data/art\n",
    "grep 'Italian sculptor' artists.txt > t1 \n",
    "grep 'Medieval' t1 > t2\n",
    "grep 'Baroque' t1 >> t2\n",
    "wc -l t2"
=======
    "grep -c \"Baroque\" data/art/artists.txt | wc -l"
>>>>>>> Stashed changes
   ]
  },
  {
   "cell_type": "code",
   "execution_count": null,
   "metadata": {},
   "outputs": [],
   "source": []
  }
 ],
 "metadata": {
  "kernelspec": {
   "display_name": "Python 3",
   "language": "python",
   "name": "python3"
  },
  "language_info": {
   "codemirror_mode": {
    "name": "ipython",
    "version": 3
   },
   "file_extension": ".py",
   "mimetype": "text/x-python",
   "name": "python",
   "nbconvert_exporter": "python",
   "pygments_lexer": "ipython3",
   "version": "3.6.5"
  }
 },
 "nbformat": 4,
 "nbformat_minor": 2
}
